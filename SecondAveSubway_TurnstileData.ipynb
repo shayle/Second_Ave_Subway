{
 "cells": [
  {
   "cell_type": "code",
   "execution_count": 33,
   "metadata": {
    "collapsed": false
   },
   "outputs": [
    {
     "name": "stdout",
     "output_type": "stream",
     "text": [
      "Populating the interactive namespace from numpy and matplotlib\n"
     ]
    },
    {
     "name": "stderr",
     "output_type": "stream",
     "text": [
      "WARNING: pylab import has clobbered these variables: ['datetime', 'pylab', 'text']\n",
      "`%matplotlib` prevents importing * from pylab and numpy\n"
     ]
    }
   ],
   "source": [
    "import pandas as pd\n",
    "import geopandas as gpd\n",
    "import os\n",
    "import sys\n",
    "import pylab\n",
    "import re\n",
    "import urllib.request as request\n",
    "from datetime import datetime\n",
    "from bs4 import BeautifulSoup\n",
    "\n",
    "% pylab inline"
   ]
  },
  {
   "cell_type": "markdown",
   "metadata": {},
   "source": [
    "# Collect data January turnstile data (2017 & 2016)"
   ]
  },
  {
   "cell_type": "code",
   "execution_count": 19,
   "metadata": {
    "collapsed": false
   },
   "outputs": [],
   "source": [
    "MTA_TURNSTILE_URL = \"http://web.mta.info/developers/turnstile.html\"\n",
    "MTA_FILE_ROOT_URL = \"http://web.mta.info/developers/\""
   ]
  },
  {
   "cell_type": "code",
   "execution_count": 35,
   "metadata": {
    "collapsed": true
   },
   "outputs": [],
   "source": [
    "'''\n",
    "slightly modified from https://github.com/piratefsh/mta-turnstile-scraper/blob/master/mta_scraper.py'''\n",
    "\n",
    "def get_site():\n",
    "    f = request.urlopen(MTA_TURNSTILE_URL)\n",
    "    content = f.read()\n",
    "    return content\n",
    "\n",
    "def get_turnstile_links(html):\n",
    "    soup = BeautifulSoup(html, 'html.parser')\n",
    "    links = soup.find_all('a')\n",
    "    turnstile_links = [(link.text, MTA_FILE_ROOT_URL + link['href']) for link in links if re.match('.*day.*20..', link.text)]\n",
    "    return turnstile_links \n",
    "\n",
    "def get_links_by_date(start, end):\n",
    "    links = get_links()\n",
    "    in_range = []\n",
    "    for text,link in links:\n",
    "        date = datetime.datetime.strptime(text , \"%A, %B %d, %Y\") \n",
    "        if date >= start and date <= end:\n",
    "            in_range.append((text, link))\n",
    "    \n",
    "    return in_range\n",
    "\n",
    "def get_links():\n",
    "    return get_turnstile_links(get_site())"
   ]
  },
  {
   "cell_type": "code",
   "execution_count": 39,
   "metadata": {
    "collapsed": false
   },
   "outputs": [],
   "source": [
    "a = get_site()\n",
    "b = get_turnstile_links(a)\n",
    "start = datetime.datetime(2016, 1, 1)\n",
    "end = datetime.datetime(2016, 2, 1)\n",
    "desired = get_links_by_date(start, end)"
   ]
  },
  {
   "cell_type": "code",
   "execution_count": 120,
   "metadata": {
    "collapsed": false
   },
   "outputs": [],
   "source": [
    "metadata = 'http://web.mta.info/developers/resources/nyct/turnstile/ts_Field_Description_pre-10-18-2014.txt'\n",
    "f = request.urlopen(metadata)\n",
    "content = f.readlines()\n",
    "col_names_14 = str(content[2]).split(',')\n",
    "\n",
    "def turnstile_df(links, post2014 = True): \n",
    "    '''takes links and returns dataframe with all data in one\n",
    "    pre 2014 was captured differently and thus requires a second argument for correct columns'''\n",
    "    df = pd.DataFrame()\n",
    "    if post2014 == True: \n",
    "        for text, link in links: \n",
    "            temp_df = pd.read_csv(link, parse_dates = True, infer_datetime_format = True)\n",
    "            df = df.append(temp_df)\n",
    "    elif post2014 == False: \n",
    "        for text, link in links: \n",
    "            temp_df = pd.read_csv(link, header = None, names = col_names_14, parse_dates = True,\n",
    "                                 infer_datetime_format = True)\n",
    "            df = df.append(temp_df)\n",
    "    df.reset_index(inplace = True)\n",
    "    return df"
   ]
  },
  {
   "cell_type": "code",
   "execution_count": 52,
   "metadata": {
    "collapsed": false
   },
   "outputs": [],
   "source": [
    "jan2016 = turnstile_df(desired)"
   ]
  },
  {
   "cell_type": "code",
   "execution_count": 53,
   "metadata": {
    "collapsed": true
   },
   "outputs": [],
   "source": [
    "a = get_site()\n",
    "b = get_turnstile_links(a)\n",
    "start = datetime.datetime(2017, 1, 1)\n",
    "end = datetime.datetime(2017, 2, 1)\n",
    "desired = get_links_by_date(start, end)\n",
    "jan2017 = turnstile_df(desired)"
   ]
  },
  {
   "cell_type": "code",
   "execution_count": 54,
   "metadata": {
    "collapsed": true
   },
   "outputs": [],
   "source": [
    "a = get_site()\n",
    "b = get_turnstile_links(a)\n",
    "start = datetime.datetime(2015, 1, 1)\n",
    "end = datetime.datetime(2015, 2, 1)\n",
    "desired = get_links_by_date(start, end)\n",
    "jan2015 = turnstile_df(desired)"
   ]
  },
  {
   "cell_type": "code",
   "execution_count": 126,
   "metadata": {
    "collapsed": true
   },
   "outputs": [],
   "source": [
    "a = get_site()\n",
    "b = get_turnstile_links(a)\n",
    "start = datetime.datetime(2014, 1, 1)\n",
    "end = datetime.datetime(2014, 2, 1)\n",
    "desired = get_links_by_date(start, end)\n",
    "jan2014 = turnstile_df(desired, False)"
   ]
  },
  {
   "cell_type": "code",
   "execution_count": 127,
   "metadata": {
    "collapsed": true
   },
   "outputs": [],
   "source": [
    "a = get_site()\n",
    "b = get_turnstile_links(a)\n",
    "start = datetime.datetime(2013, 1, 1)\n",
    "end = datetime.datetime(2013, 2, 1)\n",
    "desired = get_links_by_date(start, end)\n",
    "jan2013 = turnstile_df(desired, False)"
   ]
  },
  {
   "cell_type": "code",
   "execution_count": 128,
   "metadata": {
    "collapsed": true
   },
   "outputs": [],
   "source": [
    "a = get_site()\n",
    "b = get_turnstile_links(a)\n",
    "start = datetime.datetime(2012, 1, 1)\n",
    "end = datetime.datetime(2012, 2, 1)\n",
    "desired = get_links_by_date(start, end)\n",
    "jan2012 = turnstile_df(desired, False)"
   ]
  },
  {
   "cell_type": "markdown",
   "metadata": {},
   "source": [
    "# Data Cleaning: Remove all data outside the range of January\n",
    "# Desired Stations: Q 72, 86, 96\n",
    "# Desired Stations: 456 - 68, 77, 86, 96"
   ]
  },
  {
   "cell_type": "code",
   "execution_count": 202,
   "metadata": {
    "collapsed": false
   },
   "outputs": [],
   "source": [
    "def mta_cleaning(df):\n",
    "    # remove out of bounds dates and stations\n",
    "    irt_stations = ['68ST-HUNTER CO', '77 ST', '86 ST', '96 ST']\n",
    "    irt_line = '6'\n",
    "    bmt_stations = ['72 ST-2 AVE', '86 ST-2 AVE', '96 ST-2 AVE']\n",
    "    bmt_line = 'Q'\n",
    "    \n",
    "    irt_df = df[df.LINENAME.str.contains(irt_line)][df.STATION.isin(irt_stations)]\n",
    "    bmt_df = df[df.LINENAME.str.contains(bmt_line)][df.STATION.isin(bmt_stations)]\n",
    "    \n",
    "    UES_df = irt_df.append(bmt_df)\n",
    "    \n",
    "    UES_df.DATE = UES_df.DATE.apply(pd.to_datetime)\n",
    "    \n",
    "    jan_mask = UES_df.DATE.map(lambda x: x.month) == 1\n",
    "    \n",
    "    return UES_df[jan_mask]"
   ]
  },
  {
   "cell_type": "code",
   "execution_count": 203,
   "metadata": {
    "collapsed": false
   },
   "outputs": [
    {
     "name": "stderr",
     "output_type": "stream",
     "text": [
      "C:\\Users\\shibbie\\Anaconda3\\lib\\site-packages\\ipykernel\\__main__.py:8: UserWarning: Boolean Series key will be reindexed to match DataFrame index.\n",
      "C:\\Users\\shibbie\\Anaconda3\\lib\\site-packages\\ipykernel\\__main__.py:9: UserWarning: Boolean Series key will be reindexed to match DataFrame index.\n"
     ]
    }
   ],
   "source": [
    "UES_jan2017 = mta_cleaning(jan2017)\n",
    "UES_jan2016 = mta_cleaning(jan2016)\n",
    "UES_jan2015 = mta_cleaning(jan2015)"
   ]
  },
  {
   "cell_type": "code",
   "execution_count": 205,
   "metadata": {
    "collapsed": false
   },
   "outputs": [],
   "source": [
    "UES_jan2017.to_csv('UES_jan2017')\n",
    "UES_jan2016.to_csv('UES_jan2016')\n",
    "UES_jan2015.to_csv('UES_jan2015')"
   ]
  },
  {
   "cell_type": "code",
   "execution_count": null,
   "metadata": {
    "collapsed": true
   },
   "outputs": [],
   "source": []
  }
 ],
 "metadata": {
  "kernelspec": {
   "display_name": "Python [Root]",
   "language": "python",
   "name": "Python [Root]"
  },
  "language_info": {
   "codemirror_mode": {
    "name": "ipython",
    "version": 3
   },
   "file_extension": ".py",
   "mimetype": "text/x-python",
   "name": "python",
   "nbconvert_exporter": "python",
   "pygments_lexer": "ipython3",
   "version": "3.5.1"
  }
 },
 "nbformat": 4,
 "nbformat_minor": 0
}
