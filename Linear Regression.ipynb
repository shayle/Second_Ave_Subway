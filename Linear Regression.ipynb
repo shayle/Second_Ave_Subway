{
 "cells": [
  {
   "cell_type": "code",
   "execution_count": 70,
   "metadata": {
    "collapsed": false,
    "scrolled": true
   },
   "outputs": [
    {
     "name": "stdout",
     "output_type": "stream",
     "text": [
      "Populating the interactive namespace from numpy and matplotlib\n"
     ]
    },
    {
     "name": "stderr",
     "output_type": "stream",
     "text": [
      "WARNING: pylab import has clobbered these variables: ['datetime']\n",
      "`%matplotlib` prevents importing * from pylab and numpy\n"
     ]
    }
   ],
   "source": [
    "import pandas as pd\n",
    "import geopandas as gpd\n",
    "import numpy as np\n",
    "import os\n",
    "import sys\n",
    "import pylab as pl\n",
    "import re\n",
    "import urllib as request\n",
    "from datetime import datetime\n",
    "from bs4 import BeautifulSoup\n",
    "import seaborn as sns\n",
    "import sklearn \n",
    "from sklearn import linear_model\n",
    "import statsmodels.api as sm\n",
    "import matplotlib.pyplot as plt\n",
    "%pylab inline"
   ]
  },
  {
   "cell_type": "code",
   "execution_count": 2,
   "metadata": {
    "collapsed": true
   },
   "outputs": [],
   "source": [
    "df = pd.read_csv(\"zip_code_040114 (1).csv\")"
   ]
  },
  {
   "cell_type": "code",
   "execution_count": 5,
   "metadata": {
    "collapsed": false
   },
   "outputs": [],
   "source": [
    "dfnonzero = df[df[\"median_listing_sqft\"]!=0]"
   ]
  },
  {
   "cell_type": "code",
   "execution_count": 11,
   "metadata": {
    "collapsed": false
   },
   "outputs": [],
   "source": [
    "dfdropnan = dfnonzero.dropna()"
   ]
  },
  {
   "cell_type": "code",
   "execution_count": 60,
   "metadata": {
    "collapsed": false
   },
   "outputs": [
    {
     "name": "stderr",
     "output_type": "stream",
     "text": [
      "/Users/michelleho/anaconda/lib/python2.7/site-packages/IPython/kernel/__main__.py:1: SettingWithCopyWarning: \n",
      "A value is trying to be set on a copy of a slice from a DataFrame.\n",
      "Try using .loc[row_indexer,col_indexer] = value instead\n",
      "\n",
      "See the caveats in the documentation: http://pandas.pydata.org/pandas-docs/stable/indexing.html#indexing-view-versus-copy\n",
      "  if __name__ == '__main__':\n",
      "/Users/michelleho/anaconda/lib/python2.7/site-packages/IPython/kernel/__main__.py:2: SettingWithCopyWarning: \n",
      "A value is trying to be set on a copy of a slice from a DataFrame.\n",
      "Try using .loc[row_indexer,col_indexer] = value instead\n",
      "\n",
      "See the caveats in the documentation: http://pandas.pydata.org/pandas-docs/stable/indexing.html#indexing-view-versus-copy\n",
      "  from IPython.kernel.zmq import kernelapp as app\n"
     ]
    }
   ],
   "source": [
    "dfdropnan['subway_station_density'] = np.log(dfdropnan['count_vals_density'])\n",
    "dfdropnan['subway_stations'] = dfdropnan['count_vals']"
   ]
  },
  {
   "cell_type": "code",
   "execution_count": 61,
   "metadata": {
    "collapsed": false
   },
   "outputs": [
    {
     "data": {
      "text/plain": [
       "0.96033004189050453"
      ]
     },
     "execution_count": 61,
     "metadata": {},
     "output_type": "execute_result"
    }
   ],
   "source": [
    "max(dfdropnan['commuter_density'])"
   ]
  },
  {
   "cell_type": "code",
   "execution_count": 62,
   "metadata": {
    "collapsed": false
   },
   "outputs": [
    {
     "name": "stderr",
     "output_type": "stream",
     "text": [
      "/Users/michelleho/anaconda/lib/python2.7/site-packages/IPython/kernel/__main__.py:2: SettingWithCopyWarning: \n",
      "A value is trying to be set on a copy of a slice from a DataFrame.\n",
      "Try using .loc[row_indexer,col_indexer] = value instead\n",
      "\n",
      "See the caveats in the documentation: http://pandas.pydata.org/pandas-docs/stable/indexing.html#indexing-view-versus-copy\n",
      "  from IPython.kernel.zmq import kernelapp as app\n"
     ]
    }
   ],
   "source": [
    "Y = dfdropnan['median_listing_sqft']\n",
    "dfdropnan['population_density'] = dfdropnan['population']/dfdropnan['area']"
   ]
  },
  {
   "cell_type": "code",
   "execution_count": 63,
   "metadata": {
    "collapsed": false
   },
   "outputs": [
    {
     "name": "stderr",
     "output_type": "stream",
     "text": [
      "/Users/michelleho/anaconda/lib/python2.7/site-packages/IPython/kernel/__main__.py:1: SettingWithCopyWarning: \n",
      "A value is trying to be set on a copy of a slice from a DataFrame.\n",
      "Try using .loc[row_indexer,col_indexer] = value instead\n",
      "\n",
      "See the caveats in the documentation: http://pandas.pydata.org/pandas-docs/stable/indexing.html#indexing-view-versus-copy\n",
      "  if __name__ == '__main__':\n"
     ]
    }
   ],
   "source": [
    "dfdropnan['commuter_density'] = dfdropnan['commuters']/dfdropnan['workers']"
   ]
  },
  {
   "cell_type": "code",
   "execution_count": 64,
   "metadata": {
    "collapsed": false
   },
   "outputs": [],
   "source": [
    "X = dfdropnan[['population_density','commuter_density','subway_station_density','subway_stations']]"
   ]
  },
  {
   "cell_type": "code",
   "execution_count": 65,
   "metadata": {
    "collapsed": false
   },
   "outputs": [
    {
     "name": "stdout",
     "output_type": "stream",
     "text": [
      "                             OLS Regression Results                            \n",
      "===============================================================================\n",
      "Dep. Variable:     median_listing_sqft   R-squared:                       0.577\n",
      "Model:                             OLS   Adj. R-squared:                  0.556\n",
      "Method:                  Least Squares   F-statistic:                     27.33\n",
      "Date:                 Wed, 08 Mar 2017   Prob (F-statistic):           2.62e-14\n",
      "Time:                         14:30:17   Log-Likelihood:                -639.98\n",
      "No. Observations:                   85   AIC:                             1290.\n",
      "Df Residuals:                       80   BIC:                             1302.\n",
      "Df Model:                            4                                         \n",
      "Covariance Type:             nonrobust                                         \n",
      "==========================================================================================\n",
      "                             coef    std err          t      P>|t|      [95.0% Conf. Int.]\n",
      "------------------------------------------------------------------------------------------\n",
      "const                   2.918e+07   4.78e+07      0.610      0.543      -6.6e+07  1.24e+08\n",
      "population_density     -4.666e+04   2.23e+04     -2.092      0.040      -9.1e+04 -2269.841\n",
      "commuter_density       -3.038e+07   4.98e+07     -0.610      0.544     -1.29e+08  6.87e+07\n",
      "subway_station_density   535.5218     55.547      9.641      0.000       424.979   646.065\n",
      "subway_stations          -51.8815     22.823     -2.273      0.026       -97.301    -6.462\n",
      "==============================================================================\n",
      "Omnibus:                        6.064   Durbin-Watson:                   1.143\n",
      "Prob(Omnibus):                  0.048   Jarque-Bera (JB):                3.495\n",
      "Skew:                           0.295   Prob(JB):                        0.174\n",
      "Kurtosis:                       2.201   Cond. No.                     1.97e+07\n",
      "==============================================================================\n",
      "\n",
      "Warnings:\n",
      "[1] Standard Errors assume that the covariance matrix of the errors is correctly specified.\n",
      "[2] The smallest eigenvalue is 4.52e-11. This might indicate that there are\n",
      "strong multicollinearity problems or that the design matrix is singular.\n"
     ]
    }
   ],
   "source": [
    "Xt = sm.add_constant(X)\n",
    "res=sm.OLS(Y,Xt).fit(intercept=True)\n",
    "print res.summary()"
   ]
  },
  {
   "cell_type": "code",
   "execution_count": 66,
   "metadata": {
    "collapsed": false
   },
   "outputs": [
    {
     "name": "stdout",
     "output_type": "stream",
     "text": [
      "                             OLS Regression Results                            \n",
      "===============================================================================\n",
      "Dep. Variable:     median_listing_sqft   R-squared:                       0.056\n",
      "Model:                             OLS   Adj. R-squared:                  0.044\n",
      "Method:                  Least Squares   F-statistic:                     4.881\n",
      "Date:                 Wed, 08 Mar 2017   Prob (F-statistic):             0.0299\n",
      "Time:                         14:31:08   Log-Likelihood:                -674.16\n",
      "No. Observations:                   85   AIC:                             1352.\n",
      "Df Residuals:                       83   BIC:                             1357.\n",
      "Df Model:                            1                                         \n",
      "Covariance Type:             nonrobust                                         \n",
      "===================================================================================\n",
      "                      coef    std err          t      P>|t|      [95.0% Conf. Int.]\n",
      "-----------------------------------------------------------------------------------\n",
      "const             638.2365    132.925      4.801      0.000       373.854   902.619\n",
      "subway_stations    62.1141     28.115      2.209      0.030         6.194   118.034\n",
      "==============================================================================\n",
      "Omnibus:                        9.503   Durbin-Watson:                   0.676\n",
      "Prob(Omnibus):                  0.009   Jarque-Bera (JB):                9.053\n",
      "Skew:                           0.733   Prob(JB):                       0.0108\n",
      "Kurtosis:                       2.361   Cond. No.                         8.77\n",
      "==============================================================================\n",
      "\n",
      "Warnings:\n",
      "[1] Standard Errors assume that the covariance matrix of the errors is correctly specified.\n"
     ]
    }
   ],
   "source": [
    "Xt = sm.add_constant(dfdropnan['subway_stations'])\n",
    "res=sm.OLS(Y,Xt).fit(intercept=True)\n",
    "print res.summary()"
   ]
  },
  {
   "cell_type": "code",
   "execution_count": 75,
   "metadata": {
    "collapsed": false
   },
   "outputs": [
    {
     "data": {
      "text/plain": [
       "<matplotlib.text.Text at 0x10c0696d0>"
      ]
     },
     "execution_count": 75,
     "metadata": {},
     "output_type": "execute_result"
    },
    {
     "data": {
      "image/png": "[encoded data removed]",
      "text/plain": [
       "<matplotlib.figure.Figure at 0x10ba47650>"
      ]
     },
     "metadata": {},
     "output_type": "display_data"
    }
   ],
   "source": [
    "liregr = linear_model.LinearRegression()\n",
    "liregr.fit(Xt, Y)\n",
    "ols_prediction = liregr.predict(Xt)\n",
    "plt.figure(figsize=(15,8))\n",
    "plt.scatter(Y,liregr.predict(Xt),color='red')\n",
    "plt.xlabel('Actual Median Price per Sq Ft')\n",
    "plt.ylabel('Predicted Median Price per Sq Ft')"
   ]
  },
  {
   "cell_type": "code",
   "execution_count": 100,
   "metadata": {
    "collapsed": false
   },
   "outputs": [
    {
     "data": {
      "text/plain": [
       "<matplotlib.legend.Legend at 0x10dba7410>"
      ]
     },
     "execution_count": 100,
     "metadata": {},
     "output_type": "execute_result"
    },
    {
     "data": {
      "image/png": "[encoded data removed]",
      "text/plain": [
       "<matplotlib.figure.Figure at 0x10c912f90>"
      ]
     },
     "metadata": {},
     "output_type": "display_data"
    }
   ],
   "source": [
    "plt.figure(figsize=(15,8))\n",
    "plt.scatter(dfdropnan['subway_stations'],Y,color='red',label=\"zip code observations\")\n",
    "plt.xlabel('Subway Stations in Zip Code')\n",
    "plt.ylabel('Actual Median Price per Sq Ft')\n",
    "plt.title('Effect of Existing Subway Stations on Home Prices')\n",
    "xRange = np.arange(0,16,1)\n",
    "XRangeT = sm.add_constant(xRange)\n",
    "expectedYs = liregr.predict(XRangeT)\n",
    "plt.plot(xRange,expectedYs, label = 'fitted line')\n",
    "plt.legend()"
   ]
  },
  {
   "cell_type": "code",
   "execution_count": null,
   "metadata": {
    "collapsed": true
   },
   "outputs": [],
   "source": []
  }
 ],
 "metadata": {
  "kernelspec": {
   "display_name": "Python 2",
   "language": "python",
   "name": "python2"
  },
  "language_info": {
   "codemirror_mode": {
    "name": "ipython",
    "version": 2
   },
   "file_extension": ".py",
   "mimetype": "text/x-python",
   "name": "python",
   "nbconvert_exporter": "python",
   "pygments_lexer": "ipython2",
   "version": "2.7.13"
  }
 },
 "nbformat": 4,
 "nbformat_minor": 0
}
